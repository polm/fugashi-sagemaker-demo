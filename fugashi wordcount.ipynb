{
 "cells": [
  {
   "cell_type": "markdown",
   "metadata": {},
   "source": [
    "# Fugashi Word Count Tutorial\n",
    "\n",
    "In this tutorial we'll use fugashi, a wrapper for the MeCab tokenizer and morphological analysis tool, to count words in 吾輩は猫である \"I Am a Cat\", the famous novel by Natsume Soseki. \n",
    "\n",
    "MeCab uses large dictionaries and statistical models to tokenize Japanese text. Since the dictionaries are hosted on S3 they're easy to install in an AWS environment.\n",
    "\n",
    "First let's install the basic packages for this tutorial. \n",
    "\n",
    "- **fugashi** is the tool that actually performs tokenization\n",
    "- **unidic** is the dictionary we'll use for this tutorial\n",
    "- **requests** will be used to download the book text"
   ]
  },
  {
   "cell_type": "code",
   "execution_count": 1,
   "metadata": {},
   "outputs": [
    {
     "name": "stdout",
     "output_type": "stream",
     "text": [
      "Collecting fugashi\n",
      "  Downloading fugashi-1.0.4-cp36-cp36m-manylinux1_x86_64.whl (476 kB)\n",
      "\u001b[K     |████████████████████████████████| 476 kB 9.5 MB/s eta 0:00:01\n",
      "\u001b[?25hCollecting unidic\n",
      "  Downloading unidic-1.0.2.tar.gz (5.0 kB)\n",
      "Requirement already satisfied: requests in /home/ec2-user/anaconda3/envs/python3/lib/python3.6/site-packages (2.22.0)\n",
      "Requirement already satisfied: tqdm<5.0.0,>=4.41.1 in /home/ec2-user/anaconda3/envs/python3/lib/python3.6/site-packages (from unidic) (4.42.1)\n",
      "Collecting wasabi<1.0.0,>=0.6.0\n",
      "  Downloading wasabi-0.8.0-py3-none-any.whl (23 kB)\n",
      "Collecting plac<2.0.0,>=1.1.3\n",
      "  Downloading plac-1.2.0-py2.py3-none-any.whl (21 kB)\n",
      "Requirement already satisfied: certifi>=2017.4.17 in /home/ec2-user/anaconda3/envs/python3/lib/python3.6/site-packages (from requests) (2020.6.20)\n",
      "Requirement already satisfied: idna<2.9,>=2.5 in /home/ec2-user/anaconda3/envs/python3/lib/python3.6/site-packages (from requests) (2.8)\n",
      "Requirement already satisfied: chardet<3.1.0,>=3.0.2 in /home/ec2-user/anaconda3/envs/python3/lib/python3.6/site-packages (from requests) (3.0.4)\n",
      "Requirement already satisfied: urllib3!=1.25.0,!=1.25.1,<1.26,>=1.21.1 in /home/ec2-user/anaconda3/envs/python3/lib/python3.6/site-packages (from requests) (1.25.8)\n",
      "Building wheels for collected packages: unidic\n",
      "  Building wheel for unidic (setup.py) ... \u001b[?25ldone\n",
      "\u001b[?25h  Created wheel for unidic: filename=unidic-1.0.2-py3-none-any.whl size=5411 sha256=35c1df18abe4b8182f936257fbe59642b00dcefe2c9c8ea43a0d241cf8b992e9\n",
      "  Stored in directory: /home/ec2-user/.cache/pip/wheels/61/62/e0/c3c3e36d343f8d6b959e76fe9f7c73c0aeff297ac259deac25\n",
      "Successfully built unidic\n",
      "Installing collected packages: fugashi, wasabi, plac, unidic\n",
      "Successfully installed fugashi-1.0.4 plac-1.2.0 unidic-1.0.2 wasabi-0.8.0\n",
      "\u001b[33mWARNING: You are using pip version 20.0.2; however, version 20.2.3 is available.\n",
      "You should consider upgrading via the '/home/ec2-user/anaconda3/envs/python3/bin/python -m pip install --upgrade pip' command.\u001b[0m\n"
     ]
    }
   ],
   "source": [
    "import sys\n",
    "!{sys.executable} -m pip install fugashi unidic requests"
   ]
  },
  {
   "cell_type": "markdown",
   "metadata": {},
   "source": [
    "Because it's large - about 1GB on disk - UniDic requires an extra download step. This data is on S3 so it's very fast to download."
   ]
  },
  {
   "cell_type": "code",
   "execution_count": 2,
   "metadata": {},
   "outputs": [
    {
     "name": "stdout",
     "output_type": "stream",
     "text": [
      "download url: https://cotonoha-dic.s3-ap-northeast-1.amazonaws.com/unidic.zip\n",
      "Dictionary version: 2.3.0+1\n",
      "Downloading UniDic v2.3.0+1...\n",
      "unidic.zip: 100%|████████████████████████████| 608M/608M [01:22<00:00, 7.41MB/s]\n",
      "Finished download.\n",
      "Downloaded UniDic v2.3.0+1 to /home/ec2-user/anaconda3/envs/python3/lib/python3.6/site-packages/unidic/dicdir\n"
     ]
    }
   ],
   "source": [
    "!{sys.executable} -m unidic download aws"
   ]
  },
  {
   "cell_type": "markdown",
   "metadata": {},
   "source": [
    "Next let's do some basic tokenization. We'll print out a sentence along with the pronunciation and part-of-speech information for each word."
   ]
  },
  {
   "cell_type": "code",
   "execution_count": 3,
   "metadata": {},
   "outputs": [
    {
     "name": "stdout",
     "output_type": "stream",
     "text": [
      "吾輩\tワガハイ\t代名詞,*,*,*\n",
      "は\tハ\t助詞,係助詞,*,*\n",
      "猫\tネコ\t名詞,普通名詞,一般,*\n",
      "で\tデ\t助動詞,*,*,*\n",
      "ある\tアル\t動詞,非自立可能,*,*\n",
      "。\t*\t補助記号,句点,*,*\n"
     ]
    }
   ],
   "source": [
    "import fugashi\n",
    "tagger = fugashi.Tagger()\n",
    "for word in tagger(\"吾輩は猫である。\"):\n",
    "    print(word, word.feature.kana, word.pos, sep=\"\\t\")"
   ]
  },
  {
   "cell_type": "markdown",
   "metadata": {},
   "source": [
    "UniDic part of speech tags have four parts, from basic part of speech type like 名詞 (noun) or 動詞 (verb) to more fine-grained tags, like whether a proper noun is a place or person. `*` is used as a placeholder when there's no detailed tag. \n",
    "\n",
    "UniDic includes a lot of other data beyond what we're using here, including kana accent, broad etymological category, and more. See [the dataset description][dataset] for details on the available fields.\n",
    "\n",
    "[dataset]: https://github.com/polm/unidic-py/blob/master/doc/dataset.md\n",
    "\n",
    "Now let's download the book and try a basic word count."
   ]
  },
  {
   "cell_type": "code",
   "execution_count": 4,
   "metadata": {},
   "outputs": [
    {
     "name": "stdout",
     "output_type": "stream",
     "text": [
      "Most common words:\n",
      "9712 の\n",
      "9217 《\n",
      "9216 》\n",
      "7498 に\n",
      "7475 。\n",
      "7238 て\n",
      "6835 、\n",
      "6644 は\n",
      "6266 と\n",
      "6128 を\n",
      "\n"
     ]
    }
   ],
   "source": [
    "import requests\n",
    "\n",
    "wagahai = requests.get(\"https://github.com/polm/fugashi-sagemaker-demo/raw/master/wagahai.txt\").text\n",
    "\n",
    "from collections import Counter\n",
    "wc = Counter()\n",
    "\n",
    "# Get a word count\n",
    "for line in wagahai.split(\"\\n\"):\n",
    "    for word in tagger(line):\n",
    "        wc[word.surface] += 1\n",
    "print(\"Most common words:\")        \n",
    "for key, val in wc.most_common(10):\n",
    "    print(val, key)\n",
    "print()"
   ]
  },
  {
   "cell_type": "markdown",
   "metadata": {},
   "source": [
    "We can see that the most common words are grammatical function words and punctuation, so looks like our word count is working. \n",
    "\n",
    "Now let's try getting a list of the most common proper nouns that are names of people. This should give us a list of characters in the novel."
   ]
  },
  {
   "cell_type": "code",
   "execution_count": 5,
   "metadata": {},
   "outputs": [
    {
     "name": "stdout",
     "output_type": "stream",
     "text": [
      "Most common proper nouns:\n",
      "343 迷亭\n",
      "85 鈴木\n",
      "80 独仙\n",
      "42 雪江\n",
      "41 鼻子\n",
      "40 多々良\n",
      "37 りょう\n",
      "33 武右衛門\n",
      "26 馳\n",
      "24 寒月\n"
     ]
    }
   ],
   "source": [
    "wcpos = Counter()\n",
    "for line in wagahai.split(\"\\n\"):\n",
    "    for word in tagger(line):\n",
    "        if (word.feature.pos2 == '固有名詞' and\n",
    "            word.feature.pos3 == '人名'):\n",
    "            wcpos[word.surface] += 1\n",
    "\n",
    "print(\"Most common proper nouns:\")\n",
    "for key, val in wcpos.most_common(10):\n",
    "    print(val, key)"
   ]
  },
  {
   "cell_type": "markdown",
   "metadata": {},
   "source": [
    "Sure enough the top entries are all names of characters in the novel. \n",
    "\n",
    "That's it for this basic tutorial; for more information see the documentation for [MeCab](https://taku910.github.io/mecab/) or [fugashi](https://github.com/polm/fugashi). happy tokenizing!"
   ]
  }
 ],
 "metadata": {
  "kernelspec": {
   "display_name": "conda_python3",
   "language": "python",
   "name": "conda_python3"
  },
  "language_info": {
   "codemirror_mode": {
    "name": "ipython",
    "version": 3
   },
   "file_extension": ".py",
   "mimetype": "text/x-python",
   "name": "python",
   "nbconvert_exporter": "python",
   "pygments_lexer": "ipython3",
   "version": "3.6.10"
  }
 },
 "nbformat": 4,
 "nbformat_minor": 4
}
